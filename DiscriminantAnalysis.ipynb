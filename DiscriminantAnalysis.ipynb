{
 "cells": [
  {
   "cell_type": "markdown",
   "metadata": {},
   "source": [
    "# Linear discriminant analysis\n",
    "Discriminant analysis is a classification method. If each class density follows a multivariate Gaussian distribution\n",
    "$$ f_k(x) = \\frac{1}{(2\\pi)^{p/2} | \\Sigma_k |^{1/2}} e^{-\\frac{1}{2} (x-\\mu_k)^T \\Sigma_k^{-1} (x - \\mu_k} )$$\n",
    "Then we want to claasify the observations based on the posterior probability $Pr(G=k|X) $. If we further assume that the classes have a common covariance matrix $\\Sigma_k = \\Sigma $, then to compare two classes $k$ and $\\ell$, it is sufficient to look at the log-ratios\n",
    "$$ \\log \\frac{Pr(G=k| X = x)}{Pr(G = \\ell |X = x)} = \\log(\\pi_k/\\pi_\\ell) - 1/2(\\mu_k + \\mu_\\ell)^T \\Sigma^{-1} (\\mu_k - \\mu_\\ell) + x^T \\Sigma^{-1}(\\mu_k - \\mu_\\ell) $$\n",
    "Thus we have the __linear discriminant functions__\n",
    "$$ \\delta_k(x) = x^T \\Sigma^{-1}\\mu_k - (1/2)\\mu_k \\Sigma^{-1} \\mu_k + \\log \\pi_k $$\n",
    "\n",
    "To estimate the paramters, we have\n",
    "$$ \\hat{\\pi}_k = N_k /N $$\n",
    "$$ \\hat{\\mu}_k = \\sum_{g_i = k} x_i / N_k $$\n",
    "$$ \\hat{\\Sigma} = \\sum_{k = 1}^K \\sum_{g_i = k} (x_i - \\hat{\\mu}_k)(x_i - \\hat{\\mu}_k)^T/(N - K) $$"
   ]
  },
  {
   "cell_type": "code",
   "execution_count": 1,
   "metadata": {
    "collapsed": false
   },
   "outputs": [
    {
     "name": "stderr",
     "output_type": "stream",
     "text": [
      "/Users/apple/anaconda/lib/python2.7/site-packages/matplotlib/font_manager.py:273: UserWarning: Matplotlib is building the font cache using fc-list. This may take a moment.\n",
      "  warnings.warn('Matplotlib is building the font cache using fc-list. This may take a moment.')\n"
     ]
    }
   ],
   "source": [
    "import numpy as np\n",
    "import pandas as pd\n",
    "import matplotlib.pyplot as plt\n",
    "%matplotlib inline"
   ]
  },
  {
   "cell_type": "markdown",
   "metadata": {},
   "source": [
    "The source code of the implementation is as follows:"
   ]
  },
  {
   "cell_type": "code",
   "execution_count": 28,
   "metadata": {
    "collapsed": false
   },
   "outputs": [],
   "source": [
    "class LinearDiscriminant(object):\n",
    "    \n",
    "    def __init__(self):\n",
    "        pass\n",
    "    \n",
    "    def fit(self, X, y):\n",
    "        \n",
    "        Labels = np.unique(y)\n",
    "        \n",
    "        classNum = len(Labels) # K\n",
    "        \n",
    "        mu = np.zeros((classNum, X.shape[1])) # Vector of mu_k\n",
    "        Pi = np.zeros(classNum) # Vector of pi_k\n",
    "        Sigma = np.zeros((X.shape[1], X.shape[1])) # \n",
    "        \n",
    "        Ntot = len(y)\n",
    "        \n",
    "        for k in range(len(Labels)):\n",
    "            Lab = Labels[k]\n",
    "            \n",
    "            indLab = y == Lab\n",
    "            Pi[k] = np.sum(indLab)/(Ntot + 0.0)\n",
    "            \n",
    "            Xlab = X[y == Lab]\n",
    "            \n",
    "            mu[k] = Xlab.mean(axis = 0)\n",
    "            \n",
    "            Sigma = Sigma + np.dot((Xlab - mu[k]).T, (Xlab - mu[k]))\n",
    "            \n",
    "        Sigma = Sigma / (Ntot - classNum)\n",
    "            \n",
    "        self.mu = mu\n",
    "        self.Pi = Pi\n",
    "        self.Sigma = Sigma\n",
    "        self.Precision = np.linalg.inv(Sigma)\n",
    "        self.Labels = Labels\n",
    "        self.classNum = classNum\n",
    "        \n",
    "    def calLogProb(self, X):\n",
    "        logProb = np.zeros((X.shape[0], self.classNum))\n",
    "        \n",
    "        logProb = (X.dot(np.dot(self.Precision, self.mu.T)) -\n",
    "        0.5*np.diagonal(np.dot(self.mu, np.dot(self.Precision, self.mu.T))) + np.log(self.Pi))\n",
    "        \n",
    "        return logProb\n",
    "\n",
    "    def predict(self, X):\n",
    "        y = np.array(self.Labels[0] * X.shape[0])\n",
    "        \n",
    "        logProb = self.calLogProb(X)\n",
    "        \n",
    "        predLabels = self.Labels[np.argmax(logProb, axis = 1)]\n",
    "        \n",
    "        return predLabels"
   ]
  },
  {
   "cell_type": "markdown",
   "metadata": {},
   "source": [
    "We can generate the simulated data as follows:"
   ]
  },
  {
   "cell_type": "code",
   "execution_count": 29,
   "metadata": {
    "collapsed": false
   },
   "outputs": [],
   "source": [
    "sigma = 0.5\n",
    "np.random.seed(123)\n",
    "# First class: center (-1, -1)\n",
    "x1x = np.random.normal(-1, sigma, 500)\n",
    "x1y = np.random.normal(-1, sigma, 500)\n",
    "X1 = np.vstack((x1x, x1y)).T\n",
    "y1 = np.array([1]*500)\n",
    "\n",
    "# Second class: center (1, 1)\n",
    "x2x = np.random.normal(1, sigma, 1500)\n",
    "x2y = np.random.normal(1, sigma, 1500)\n",
    "X2 = np.vstack((x2x, x2y)).T\n",
    "y2 = np.array([2]*1500)\n",
    "\n",
    "X = np.vstack((X1, X2))\n",
    "y = np.concatenate((y1, y2))"
   ]
  },
  {
   "cell_type": "markdown",
   "metadata": {},
   "source": [
    "So the simulated data consist of two groups of proportion 1/3 and 2/3 with stand deviation diag(0.5, 0.5). The means of the two groups are (-1, -1) and (1, 1). We can have a look at the first 3 observations from group 1."
   ]
  },
  {
   "cell_type": "code",
   "execution_count": 30,
   "metadata": {
    "collapsed": false
   },
   "outputs": [
    {
     "data": {
      "text/plain": [
       "array([[-1.5428153 , -0.62398317],\n",
       "       [-0.50132728, -0.96517963],\n",
       "       [-0.85851075, -1.13272281]])"
      ]
     },
     "execution_count": 30,
     "metadata": {},
     "output_type": "execute_result"
    }
   ],
   "source": [
    "X1[:3]"
   ]
  },
  {
   "cell_type": "markdown",
   "metadata": {},
   "source": [
    "They can be plotted as"
   ]
  },
  {
   "cell_type": "code",
   "execution_count": 31,
   "metadata": {
    "collapsed": false
   },
   "outputs": [
    {
     "data": {
      "image/png": "[encoded data removed]",
      "text/plain": [
       "<matplotlib.figure.Figure at 0x111904590>"
      ]
     },
     "metadata": {},
     "output_type": "display_data"
    }
   ],
   "source": [
    "plt.scatter(x1x, x1y, color = 'r', marker = 'o')\n",
    "plt.scatter(x2x, x2y, color = 'b', marker = 's')\n",
    "plt.show()"
   ]
  },
  {
   "cell_type": "markdown",
   "metadata": {},
   "source": [
    "Now we proceed to estimate the parameters of the simulated data distributioin."
   ]
  },
  {
   "cell_type": "code",
   "execution_count": 32,
   "metadata": {
    "collapsed": false
   },
   "outputs": [],
   "source": [
    "ldis = LinearDiscriminant()\n",
    "ldis.fit(X, y)"
   ]
  },
  {
   "cell_type": "markdown",
   "metadata": {},
   "source": [
    "The estimated parameters are"
   ]
  },
  {
   "cell_type": "code",
   "execution_count": 33,
   "metadata": {
    "collapsed": false
   },
   "outputs": [
    {
     "data": {
      "text/plain": [
       "2"
      ]
     },
     "execution_count": 33,
     "metadata": {},
     "output_type": "execute_result"
    }
   ],
   "source": [
    "ldis.classNum"
   ]
  },
  {
   "cell_type": "code",
   "execution_count": 34,
   "metadata": {
    "collapsed": false
   },
   "outputs": [
    {
     "data": {
      "text/plain": [
       "array([[ 0.23646446,  0.00498746],\n",
       "       [ 0.00498746,  0.24687092]])"
      ]
     },
     "execution_count": 34,
     "metadata": {},
     "output_type": "execute_result"
    }
   ],
   "source": [
    "ldis.Sigma"
   ]
  },
  {
   "cell_type": "markdown",
   "metadata": {},
   "source": [
    "The above parameter estimation seems to coincide well with the parameters used to generate the data. Now we test the classifier on a set of test data"
   ]
  },
  {
   "cell_type": "code",
   "execution_count": 35,
   "metadata": {
    "collapsed": false
   },
   "outputs": [],
   "source": [
    "# Generate test data\n",
    "np.random.seed(52)\n",
    "x3x = np.random.normal(-1, sigma, 30)\n",
    "x3y = np.random.normal(-1, sigma, 30)\n",
    "X3 = np.vstack((x3x, x3y)).T\n",
    "\n",
    "x4x = np.random.normal(1, sigma, 90)\n",
    "x4y = np.random.normal(1, sigma, 90)\n",
    "X4 = np.vstack((x4x, x4y)).T\n",
    "\n",
    "XTest = np.vstack((X3, X4))\n",
    "yTest = np.concatenate((np.array([1]*30), np.array([2]*90)))\n",
    "\n",
    "predLabels = ldis.predict(XTest)"
   ]
  },
  {
   "cell_type": "code",
   "execution_count": 36,
   "metadata": {
    "collapsed": false
   },
   "outputs": [
    {
     "data": {
      "text/plain": [
       "90"
      ]
     },
     "execution_count": 36,
     "metadata": {},
     "output_type": "execute_result"
    }
   ],
   "source": [
    "np.sum(predLabels == 2)"
   ]
  },
  {
   "cell_type": "markdown",
   "metadata": {},
   "source": [
    "To visualize the classifier, we use the function __plot_decision_regions__ by Sebastian Raschka, which can be found in his book *Python Machine Learning* and his package *mlxtend*."
   ]
  },
  {
   "cell_type": "code",
   "execution_count": 37,
   "metadata": {
    "collapsed": true
   },
   "outputs": [],
   "source": [
    "from matplotlib.colors import ListedColormap\n",
    "\n",
    "def plot_decision_regions(X, y, classifier, resolution = 0.02):\n",
    "    \n",
    "    markers = ('s', 'x', 'o', '^', 'v')\n",
    "    colors = ('red', 'blue', 'lightgreen', 'gray', 'cyan')\n",
    "    cmap = ListedColormap(colors[:len(np.unique(y))])\n",
    "    \n",
    "    x1_min, x1_max = X[:, 0].min() - 1, X[:, 0].max() + 1\n",
    "    x2_min, x2_max = X[:, 1].min() - 1, X[:, 1].max() + 1\n",
    "    xx1, xx2 = np.meshgrid(np.arange(x1_min, x1_max, resolution),\n",
    "                          np.arange(x2_min, x2_max, resolution))\n",
    "    Z = classifier.predict(np.array([xx1.ravel(), xx2.ravel()]).T)\n",
    "    Z = Z.reshape(xx1.shape)\n",
    "    \n",
    "    plt.contourf(xx1, xx2, Z, alpha = 0.4, cmap = cmap)\n",
    "    plt.xlim(xx1.min(), xx1.max())\n",
    "    plt.ylim(xx2.min(), xx2.max())\n",
    "    \n",
    "    for idx, cl in enumerate(np.unique(y)):\n",
    "        plt.scatter(x = X[y == cl, 0], y = X[y == cl, 1],\n",
    "                   alpha = 0.8, c = cmap(idx),\n",
    "                   marker = markers[idx], label = cl)"
   ]
  },
  {
   "cell_type": "code",
   "execution_count": 38,
   "metadata": {
    "collapsed": false
   },
   "outputs": [
    {
     "data": {
      "image/png": "[encoded data removed]",
      "text/plain": [
       "<matplotlib.figure.Figure at 0x11167b790>"
      ]
     },
     "metadata": {},
     "output_type": "display_data"
    }
   ],
   "source": [
    "plot_decision_regions(XTest, yTest, ldis)"
   ]
  },
  {
   "cell_type": "markdown",
   "metadata": {},
   "source": [
    "The theoretical separating plane can be calculated as the line $  x_1 + x_2 = \\log(3)/8 $. So we can look the point $(0.06, \\log(3)/8)$ and $ (-0.06, \\log(3)/8)$, which should be classified into different groups."
   ]
  },
  {
   "cell_type": "code",
   "execution_count": 13,
   "metadata": {
    "collapsed": false
   },
   "outputs": [
    {
     "data": {
      "text/plain": [
       "array([2])"
      ]
     },
     "execution_count": 13,
     "metadata": {},
     "output_type": "execute_result"
    }
   ],
   "source": [
    "ldis.predict(np.array([[0.06, -np.log(2)/8]]))"
   ]
  },
  {
   "cell_type": "code",
   "execution_count": 14,
   "metadata": {
    "collapsed": false
   },
   "outputs": [
    {
     "data": {
      "text/plain": [
       "array([1])"
      ]
     },
     "execution_count": 14,
     "metadata": {},
     "output_type": "execute_result"
    }
   ],
   "source": [
    "ldis.predict(np.array([[-0.06, -np.log(2)/8]]))"
   ]
  }
 ],
 "metadata": {
  "kernelspec": {
   "display_name": "Python 2",
   "language": "python",
   "name": "python2"
  },
  "language_info": {
   "codemirror_mode": {
    "name": "ipython",
    "version": 2
   },
   "file_extension": ".py",
   "mimetype": "text/x-python",
   "name": "python",
   "nbconvert_exporter": "python",
   "pygments_lexer": "ipython2",
   "version": "2.7.11"
  }
 },
 "nbformat": 4,
 "nbformat_minor": 0
}
