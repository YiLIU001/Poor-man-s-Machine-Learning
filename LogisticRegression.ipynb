{
 "cells": [
  {
   "cell_type": "markdown",
   "metadata": {},
   "source": [
    "# Logistic regression\n",
    "Logistic regression is one of the most used classification algorithm. For binary classification, its basic idea is to model the probability of $Y=1$ by the distribution\n",
    "$$ Pr(Y = 1|X=x) = \\frac{\\exp{(x^T \\beta)}}{1 + \\exp{(x^T \\beta)}} $$\n",
    "where $ \\beta$ is the parameter.As a consequence the probability of $Y=0$ is\n",
    "$$ Pr(Y = 0|X=x) = \\frac{1}{1 + \\exp{(x^T \\beta)}}$$\n",
    "If we denote $Pr(Y = 1|X=x)$ as $p(x)$, for a given observation $(x, y)$, the probability is\n",
    "$$ p(y|x) = p(x)^y (1 - p(x))^{(1-y)} $$\n",
    "For the data set $X = \\{x_1, \\dots, x_N \\} $ and $Y = \\{y_1, \\dots, y_N \\}$, the log-likelihood is\n",
    "$$\\begin{align}\n",
    "&\\ell(\\beta)\\\\\n",
    "= & \\log \\left\\{\\prod_{i=1}^N p(y_i|x_i) \\right\\}\\\\\n",
    "= & \\sum_{i=1}^N y_i \\log (p(x_i)) + (1 - y_i) \\log (1 - p(x_i))\\\\\n",
    "= & \\sum_{i=1}^N y_i \\log \\frac{p(x_i)}{1 - p(x_i)} + \\log(1 - p(x_i))\\\\\n",
    "= & \\sum_{i=1}^N y_i (x_i^T \\beta) - \\log{(1 + \\exp{(x_i^T \\beta)})}\n",
    "\\end{align}$$\n",
    "\n",
    "## First order optimization\n",
    "To obtain a maximum-likelihood estimation (MLE), we can use gradient ascent method. The derivative of the log-likelihood with respect to the parameter $\\beta$ is\n",
    "$$\\begin{align}\n",
    "& \\frac{d \\ell}{d \\beta}\\\\\n",
    "=& \\sum_{i=1}^N y_i x_i - \\frac{\\exp{(x_i^T \\beta)} x_i}{1 + \\exp{(x_i^T \\beta)}}\\\\\n",
    "=& \\sum_{i=1}^N (y_i - p(x_i)) x_i\\\\\n",
    "\\end{align}$$\n",
    "Then we can update the parameter using\n",
    "$$ \\beta \\leftarrow \\beta + \\epsilon \\frac{d \\ell}{d \\beta} $$"
   ]
  },
  {
   "cell_type": "code",
   "execution_count": 1,
   "metadata": {
    "collapsed": false
   },
   "outputs": [
    {
     "name": "stderr",
     "output_type": "stream",
     "text": [
      "/Users/apple/anaconda/lib/python2.7/site-packages/matplotlib/font_manager.py:273: UserWarning: Matplotlib is building the font cache using fc-list. This may take a moment.\n",
      "  warnings.warn('Matplotlib is building the font cache using fc-list. This may take a moment.')\n"
     ]
    }
   ],
   "source": [
    "import numpy as np\n",
    "import matplotlib.pyplot as plt\n",
    "%matplotlib inline"
   ]
  },
  {
   "cell_type": "code",
   "execution_count": 2,
   "metadata": {
    "collapsed": false
   },
   "outputs": [],
   "source": [
    "class LRFirstOrder():\n",
    "    def __init__(self):\n",
    "        pass\n",
    "    \n",
    "    def calProb(self, X, beta):\n",
    "        z = np.dot(X, beta)\n",
    "        # z = z.reshape((len(z), 1))\n",
    "        prob = np.exp(z)/(1 + np.exp(z))\n",
    "        return prob\n",
    "    \n",
    "    def calLogLike(self, X, y, beta):\n",
    "        loglike = np.dot(y.T, np.dot(X, beta)) - np.sum(np.log(1 + np.exp(np.dot(X, beta))))\n",
    "        return loglike[0,0]\n",
    "        \n",
    "    def fit(self, X, y, numIter = 1000, eta = 0.01, epsi = 1e-3):\n",
    "        nObs = X.shape[0]\n",
    "        if (len(y) != nObs):\n",
    "            raise ValueError('Number of observations in X and y not match!')\n",
    "        \n",
    "        if (len(X.shape) != 2):\n",
    "            raise ValueError('X is not a 2 dimensional matrix!')\n",
    "        \n",
    "        # Add intercept\n",
    "        newX = np.hstack((np.ones((len(y), 1)), X))\n",
    "        # Construct beta\n",
    "        beta = np.zeros((newX.shape[1], 1))\n",
    "        newY = y.reshape((len(y), 1))\n",
    "        \n",
    "        self.loglikelihood_ = []\n",
    "        self.beta_ = []\n",
    "        for i in range(numIter):\n",
    "            prob = self.calProb(newX, beta)\n",
    "            beta = beta + eta * np.dot(newX.T, (newY - prob))\n",
    "            self.beta_.append(beta)\n",
    "            self.loglikelihood_.append(self.calLogLike(newX, newY, beta))\n",
    "            \n",
    "        self.betaFin_ = beta\n",
    "        \n",
    "        if (self.loglikelihood_[-2] > self.loglikelihood_[-1] or\n",
    "            (self.loglikelihood_[-2] - self.loglikelihood_[-1])/np.abs(self.loglikelihood_[-1]) > epsi):\n",
    "            print \"Algorithm not converged!\"\n",
    "    \n",
    "    def predict(self, X, threshold = 0.5):\n",
    "        newX =np.hstack((np.ones(y.shape, 1), X))\n",
    "        prob = self.calProb(newX, beta)\n",
    "        return np.where(prob > 0.5, 1, 0)"
   ]
  },
  {
   "cell_type": "code",
   "execution_count": 3,
   "metadata": {
    "collapsed": true
   },
   "outputs": [],
   "source": [
    "def sigmoid(z):\n",
    "    return 1.0/(1 + np.exp(-z))"
   ]
  },
  {
   "cell_type": "code",
   "execution_count": 27,
   "metadata": {
    "collapsed": true
   },
   "outputs": [],
   "source": [
    "x1 = np.arange(-5, 5, 0.1)\n",
    "x2 = np.arange(-5, 5, 0.1)\n",
    "x1v, x2v = np.meshgrid(x1, x2)"
   ]
  },
  {
   "cell_type": "code",
   "execution_count": 29,
   "metadata": {
    "collapsed": false
   },
   "outputs": [],
   "source": [
    "x1v = x1v.reshape((10000, 1))\n",
    "x2v = x2v.reshape((10000, 1))"
   ]
  },
  {
   "cell_type": "code",
   "execution_count": 30,
   "metadata": {
    "collapsed": false
   },
   "outputs": [],
   "source": [
    "prob = sigmoid(-1 + 0.8*x1v - 0.3 * x2v)"
   ]
  },
  {
   "cell_type": "code",
   "execution_count": 33,
   "metadata": {
    "collapsed": false
   },
   "outputs": [],
   "source": [
    "np.random.seed(112)\n",
    "y = np.random.binomial(1,prob)\n",
    "X = np.hstack((x1v, x2v))"
   ]
  },
  {
   "cell_type": "code",
   "execution_count": 38,
   "metadata": {
    "collapsed": false
   },
   "outputs": [],
   "source": [
    "lrOne = LRFirstOrder()\n",
    "lrOne.fit(X, y, eta = 0.00001)"
   ]
  },
  {
   "cell_type": "code",
   "execution_count": 39,
   "metadata": {
    "collapsed": false
   },
   "outputs": [
    {
     "data": {
      "text/plain": [
       "[<matplotlib.lines.Line2D at 0x10ce87350>]"
      ]
     },
     "execution_count": 39,
     "metadata": {},
     "output_type": "execute_result"
    },
    {
     "data": {
      "image/png": "[encoded data removed]",
      "text/plain": [
       "<matplotlib.figure.Figure at 0x10fead890>"
      ]
     },
     "metadata": {},
     "output_type": "display_data"
    }
   ],
   "source": [
    "plt.plot(lrOne.loglikelihood_)"
   ]
  },
  {
   "cell_type": "code",
   "execution_count": 40,
   "metadata": {
    "collapsed": false
   },
   "outputs": [
    {
     "data": {
      "text/plain": [
       "array([[-1.03717157],\n",
       "       [ 0.81243949],\n",
       "       [-0.3013197 ]])"
      ]
     },
     "execution_count": 40,
     "metadata": {},
     "output_type": "execute_result"
    }
   ],
   "source": [
    "lrOne.betaFin_"
   ]
  },
  {
   "cell_type": "markdown",
   "metadata": {},
   "source": [
    "## Second order optimization\n",
    "The gradient ascent method is good, but we can accelerate its convergence by using second order derivative information. The method is usually Newton method, and its general algorithm is\n",
    "$$ \\beta \\leftarrow \\beta - (\\nabla^2 \\ell(\\beta))^{-1}\\ell'(\\beta) $$\n",
    "For logistic regression, the second order derivative is\n",
    "$$ \\nabla^2 \\ell(\\beta) = - \\sum_{i=1}^N p(x_i)(1 - p(x_i)) x_i x_i^t $$"
   ]
  },
  {
   "cell_type": "code",
   "execution_count": null,
   "metadata": {
    "collapsed": true
   },
   "outputs": [],
   "source": []
  }
 ],
 "metadata": {
  "kernelspec": {
   "display_name": "Python 2",
   "language": "python",
   "name": "python2"
  },
  "language_info": {
   "codemirror_mode": {
    "name": "ipython",
    "version": 2
   },
   "file_extension": ".py",
   "mimetype": "text/x-python",
   "name": "python",
   "nbconvert_exporter": "python",
   "pygments_lexer": "ipython2",
   "version": "2.7.11"
  }
 },
 "nbformat": 4,
 "nbformat_minor": 0
}
