{
 "cells": [
  {
   "cell_type": "markdown",
   "metadata": {},
   "source": [
    "# Algorithm"
   ]
  },
  {
   "cell_type": "markdown",
   "metadata": {},
   "source": [
    "The objective function of soft-margin SVM is\n",
    "$$ \\max_\\alpha W(\\alpha) = \\sum_{i=1}^N \\alpha_i - \\frac{1}{2} \\sum_{i=1}^N \\sum_{j=1}^N y_i y_j k(x_i, x_j) \\alpha_i \\alpha_j $$\n",
    "with the constraints\n",
    "$$ 0 \\leq \\alpha_i \\leq C, \\text{ for any }i $$\n",
    "and\n",
    "$$ \\sum_{i=1}^N y_i \\alpha_i = 0 $$\n",
    "The KKT conditions are\n",
    "$$ \\alpha_i = 0 \\Rightarrow y_i f(x_i) \\geq 1 $$\n",
    "$$ 0 \\leq \\alpha_i \\leq C \\Rightarrow y_i f(x_i) = 1 $$\n",
    "$$ \\alpha_i = C \\Rightarrow y_i f(x_i) \\leq 1 $$\n",
    "\n",
    "The sequential minimal optimization (SMO) operates with the KTT conditions of the Lagrangian multipliers directly. It solves two of these multipliers at a time, which can be done analytically. The SMO algorithm consists of three components: solving the optimization problem for two multipliers, criterion to choose which multipliers to optimize, and method to compute b.\n"
   ]
  },
  {
   "cell_type": "markdown",
   "metadata": {},
   "source": [
    "## Two multipliers optimization\n",
    "Two steps to optimize the two multipliers under consideration:\n",
    "1. computes the constraints\n",
    "2. solves for the maximum\n",
    "Denote the two multipliers by $\\alpha_1$ and $\\alpha_2 $. For the constraint $\\sum_{i=1}^N y_i \\alpha_i = 0 $, denote the sum $\\sum_{i=3}^N y_i \\alpha_i = - \\gamma $, we have $\\gamma = y_1 \\alpha_1 + y_2 \\alpha_2 $. Thus $(\\alpha_1, \\alpha_2) $ must lie on the diagonal line $\\gamma = y_1 \\alpha_1 + y_2 \\alpha_2 $ of the box $ 0 \\leq \\alpha_i \\leq C $.\n",
    "\n",
    "If $y_1$ is different from $y_2$, the bounds for $\\alpha_2$ are\n",
    "$$ L = \\max (0, \\alpha_2^{old} - \\alpha_1^{old}), \\quad H = \\min (C, C + \\alpha_2^{old} - \\alpha_1^{old}) $$\n",
    "In the other case where $y_1 = y_2$, the bounds are\n",
    "$$ L = \\max (0, \\alpha_2^{old} + \\alpha_1^{old} - C), \\quad H = \\min (C, \\alpha_2^{old} + \\alpha_1^{old}) $$\n",
    "\n",
    "The derivative of the objective function along the diagonal line is\n",
    "$$ \\eta = 2k(x_1, x_2) - k(x_1, x_1) - k(x_2, x_2) $$\n",
    "The unconstrained maximum along this direction is obtained at\n",
    "$$ \\alpha_2^{new} = \\alpha_2^{old} - \\frac{y_2(E_1 - E_2)}{\\eta} $$\n",
    "where $E_i = f^{old}(x_i) - y_i $. By the box constraint, the real maximum should be at\n",
    "$$\\alpha_2^{new, clipped} = \\left\\{ \\begin{matrix}H, & \\alpha_2^{new} \\geq H\\\\ \\alpha_2^{new}, & L < \\alpha_2^{new} < H \\\\ L, & \\alpha_2^{new} < L \\end{matrix} \\right. $$\n",
    "Denote $s = y_1y_2$, we have\n",
    "$$ \\alpha_1^{new} = \\alpha_1^{old} + s(\\alpha_2^{old} - \\alpha_2^{new, clipped}) $$\n",
    "\n",
    "## Choose the two multipliers\n",
    "The outer loop iterates over all multipliers for $\\alpha_1$. If any $\\alpha_i$ violates the KTT conditions, the algorithm then iterates over all other multipliers for $\\alpha_2$. After one loop, the algorithm only checks $\\alpha_i$'s with values 0 or C. The termination condition is that all $\\alpha$'s obey the KKT conditions within $\\epsilon$.\n",
    "\n",
    "## Calculate b and threshold\n",
    "After each step, updates $b$. If $\\alpha_1$ is not at the bounds, then\n",
    "$$ b_1 = E_1 + y_1(\\alpha_1^{new} - \\alpha_1^{old})k(x_1, x_1) + y_2(\\alpha_2^{new, clipped} - \\alpha_2^{old})k(x_1, x_2) + b^{old} $$\n",
    "If $\\alpha_2^{new}$ is not at bounds, then\n",
    "$$ b_2 = E_2 + y_1(\\alpha_1^{new} - \\alpha_1^{old})k(x_1, x_2) + y_2(\\alpha_2^{new, clipped} - \\alpha_2^{old})k(x_2, x_2) + b^{old} $$\n",
    "They are equal if both $\\alpha_1$ and $\\alpha_2$ are not at bounds."
   ]
  },
  {
   "cell_type": "markdown",
   "metadata": {},
   "source": [
    "# Implementation"
   ]
  },
  {
   "cell_type": "code",
   "execution_count": 1,
   "metadata": {
    "collapsed": false
   },
   "outputs": [],
   "source": [
    "import numpy as np\n",
    "import pandas as pd\n",
    "import matplotlib.pyplot as plt\n",
    "%matplotlib inline"
   ]
  },
  {
   "cell_type": "code",
   "execution_count": 2,
   "metadata": {
    "collapsed": true
   },
   "outputs": [],
   "source": [
    "class linSVM(object):\n",
    "    \n",
    "    def __init__(self, C = 1.0, tol = 1e-3):\n",
    "        self.C = C\n",
    "        self.tol = tol\n",
    "    \n",
    "    def calError(self, i, X, y):\n",
    "        yi = y[i]\n",
    "        Xi = X[i, :]\n",
    "        tempW = np.dot(X.T, self.alpha * y)\n",
    "        predYi = np.dot(tempW.T, X[i,:][:, np.newaxis]) + self.b\n",
    "        error = predYi - yi\n",
    "        return error\n",
    "    \n",
    "    def calL(self, alphai, alphaj, yi, yj):\n",
    "        if not yi == yj:\n",
    "            L = max(0, alphaj - alphai)\n",
    "        else:\n",
    "            L = max(0, alphai + alphaj - self.C)\n",
    "        return L\n",
    "    \n",
    "    def calH(self, alphai, alphaj, yi, yj):\n",
    "        if not yi == yj:\n",
    "            H = min(self.C, self.C + alphaj - alphai)\n",
    "        else:\n",
    "            H = min(self.C, alphai + alphaj)\n",
    "        return H\n",
    "    \n",
    "    def calKernel(self, x, y):\n",
    "        return np.dot(x.T, y)\n",
    "        \n",
    "    def fit(self, X, y, maxPasses = 100, maxIter = 10000):\n",
    "        self.alpha = np.zeros((X.shape[0], 1))\n",
    "        self.b = 0\n",
    "        \n",
    "        passes = 0\n",
    "        \n",
    "        N = X.shape[0]\n",
    "        \n",
    "        iterations = 0\n",
    "        while passes < maxPasses and iterations < maxIter:\n",
    "            numChangeAlpha = 0\n",
    "            for i in range(X.shape[0]):\n",
    "                # print \"I is\", i\n",
    "                Ei = self.calError(i, X, y)\n",
    "                yi = y[i]\n",
    "                Xi = X[i,:][:, np.newaxis]\n",
    "                if (self.alpha[i] < self.C and y[i]*Ei < -self.tol) or (y[i] * Ei > self.tol and self.alpha[i] > 0):\n",
    "                    iterations += 1\n",
    "                    # print \"Alpha is\", self.alpha[i]\n",
    "                    # print \"Error is\", y[i]*Ei\n",
    "                    j = np.random.randint(0, N - 1)\n",
    "                    while j == i:\n",
    "                        j = np.random.randint(0, N - 1)\n",
    "                    Ej = self.calError(j, X, y)\n",
    "                    yj = y[j]\n",
    "                    Xj = X[j,:][:, np.newaxis]\n",
    "                    alphai = self.alpha[i]\n",
    "                    alphaj = self.alpha[j]\n",
    "                    # print \"Before updating, alpha j is\", alphaj\n",
    "                    L = self.calL(alphai, alphaj, yi, yj)\n",
    "                    H = self.calH(alphai, alphaj, yi, yj)\n",
    "                    \n",
    "                    if L == H:\n",
    "                        continue\n",
    "                    \n",
    "                    # print \"J is\", j\n",
    "                    # print \"L is\", L\n",
    "                    # print \"H is\", H\n",
    "                    kii = self.calKernel(Xi, Xi)\n",
    "                    kjj = self.calKernel(Xj, Xj)\n",
    "                    kij = self.calKernel(Xi, Xj)\n",
    "                    \n",
    "                    eta = 2*kij - kii - kjj\n",
    "                    \n",
    "                    if eta >= 0:\n",
    "                        continue\n",
    "                    \n",
    "                    alphaj = alphaj - yj*(Ei - Ej)/eta\n",
    "                    \n",
    "                    # print \"Raw alpha j is\", alphaj\n",
    "                    \n",
    "                    if alphaj > H:\n",
    "                        alphaj = H\n",
    "                    elif alphaj < L:\n",
    "                        alphaj = L\n",
    "                        \n",
    "                    # print \"Boxed alpha j is\", alphaj\n",
    "                    \n",
    "                    alphai = alphai + yi*yi*(self.alpha[j] - alphai)\n",
    "                    # print \"alpha i is\", alphai\n",
    "                    \n",
    "                    b1 = self.b - Ei - yi*(alphai - self.alpha[i])*kii - yj*(alphaj - self.alpha[j])*kij\n",
    "                    b2 = self.b - Ej - yi*(alphai - self.alpha[i])*kij - yj*(alphaj - self.alpha[j])*kjj\n",
    "                    if alphai > 0 and alphai < self.C:\n",
    "                        self.b = b1\n",
    "                    elif alphaj > 0 and alphaj < self.C:\n",
    "                        self.b = b2\n",
    "                    else:\n",
    "                        self.b = (b1 + b2)*0.5\n",
    "                    \n",
    "                    self.alpha[i] = alphai\n",
    "                    self.alpha[j] = alphaj\n",
    "                    \n",
    "                    # print \"After assignment, alpha j is\", self.alpha[j]\n",
    "                    \n",
    "                    # print \"alpha_i is\", alphai\n",
    "                    \n",
    "                    numChangeAlpha += 1\n",
    "                    \n",
    "               # End of if\n",
    "            \n",
    "            # End of for\n",
    "            \n",
    "            if numChangeAlpha == 0:\n",
    "                passes += 1\n",
    "                print \"Passes number\", passes\n",
    "            else:\n",
    "                print \"Iteration with alpha changed\"\n",
    "                passes = 0\n",
    "        \n",
    "        # End of while\n",
    "        # Update w\n",
    "        self.w = np.dot(X.T, self.alpha * y)\n",
    "    \n",
    "    def predict(self, X):\n",
    "        # w = np.dot(X.T, self.alpha)\n",
    "        return np.sign(np.dot(X, self.w) + self.b)"
   ]
  },
  {
   "cell_type": "markdown",
   "metadata": {},
   "source": [
    "# Test"
   ]
  },
  {
   "cell_type": "code",
   "execution_count": 3,
   "metadata": {
    "collapsed": true
   },
   "outputs": [],
   "source": [
    "sigma = 0.4\n",
    "np.random.seed(123)\n",
    "# First class: center (-1, -1)\n",
    "x1x = np.random.normal(-1, sigma, 5000)\n",
    "x1y = np.random.normal(-1, sigma, 5000)\n",
    "X1 = np.vstack((x1x, x1y)).T\n",
    "y1 = np.array([1]*5000)\n",
    "\n",
    "# Second class: center (1, 1)\n",
    "x2x = np.random.normal(1, sigma, 15000)\n",
    "x2y = np.random.normal(1, sigma, 15000)\n",
    "X2 = np.vstack((x2x, x2y)).T\n",
    "y2 = np.array([-1]*15000)\n",
    "\n",
    "X = np.vstack((X1, X2))\n",
    "y = np.concatenate((y1, y2))[:, np.newaxis]"
   ]
  },
  {
   "cell_type": "code",
   "execution_count": 4,
   "metadata": {
    "collapsed": false
   },
   "outputs": [
    {
     "data": {
      "image/png": "[encoded data removed]",
      "text/plain": [
       "<matplotlib.figure.Figure at 0x10ba38a10>"
      ]
     },
     "metadata": {},
     "output_type": "display_data"
    }
   ],
   "source": [
    "plt.scatter(x1x, x1y, color = 'r', marker = 'o')\n",
    "plt.scatter(x2x, x2y, color = 'b', marker = 's')\n",
    "plt.show()"
   ]
  },
  {
   "cell_type": "code",
   "execution_count": 5,
   "metadata": {
    "collapsed": false
   },
   "outputs": [
    {
     "name": "stdout",
     "output_type": "stream",
     "text": [
      "Iteration with alpha changed\n",
      "Iteration with alpha changed\n",
      "Iteration with alpha changed\n",
      "Iteration with alpha changed\n",
      "Iteration with alpha changed\n",
      "Iteration with alpha changed\n",
      "Iteration with alpha changed\n",
      "Iteration with alpha changed\n",
      "Iteration with alpha changed\n"
     ]
    }
   ],
   "source": [
    "svm1 = linSVM(C = 10.0, tol = 0.1)\n",
    "svm1.fit(X, y, maxPasses = 200, maxIter = 1000)"
   ]
  },
  {
   "cell_type": "code",
   "execution_count": 6,
   "metadata": {
    "collapsed": false
   },
   "outputs": [
    {
     "data": {
      "text/plain": [
       "1.9738867178630766"
      ]
     },
     "execution_count": 6,
     "metadata": {},
     "output_type": "execute_result"
    }
   ],
   "source": [
    "np.sum(svm1.alpha)"
   ]
  },
  {
   "cell_type": "code",
   "execution_count": 7,
   "metadata": {
    "collapsed": false
   },
   "outputs": [
    {
     "data": {
      "text/plain": [
       "array([[-1.09887463],\n",
       "       [-1.49573837]])"
      ]
     },
     "execution_count": 7,
     "metadata": {},
     "output_type": "execute_result"
    }
   ],
   "source": [
    "svm1.w"
   ]
  },
  {
   "cell_type": "code",
   "execution_count": 8,
   "metadata": {
    "collapsed": false
   },
   "outputs": [
    {
     "data": {
      "text/plain": [
       "array([[-0.08982277]])"
      ]
     },
     "execution_count": 8,
     "metadata": {},
     "output_type": "execute_result"
    }
   ],
   "source": [
    "svm1.b"
   ]
  },
  {
   "cell_type": "code",
   "execution_count": 9,
   "metadata": {
    "collapsed": false
   },
   "outputs": [],
   "source": [
    "Xtest = np.zeros((100, 2))\n",
    "ytest = np.zeros((100, 1))\n",
    "alphatest = np.zeros((100, 1))"
   ]
  },
  {
   "cell_type": "code",
   "execution_count": 10,
   "metadata": {
    "collapsed": true
   },
   "outputs": [],
   "source": [
    "from matplotlib.colors import ListedColormap\n",
    "\n",
    "def plot_decision_regions(X, y, classifier, resolution = 0.02):\n",
    "    \n",
    "    markers = ('s', 'x', 'o', '^', 'v')\n",
    "    colors = ('red', 'blue', 'lightgreen', 'gray', 'cyan')\n",
    "    cmap = ListedColormap(colors[:len(np.unique(y))])\n",
    "    \n",
    "    x1_min, x1_max = X[:, 0].min() - 1, X[:, 0].max() + 1\n",
    "    x2_min, x2_max = X[:, 1].min() - 1, X[:, 1].max() + 1\n",
    "    xx1, xx2 = np.meshgrid(np.arange(x1_min, x1_max, resolution),\n",
    "                          np.arange(x2_min, x2_max, resolution))\n",
    "    Z = classifier.predict(np.array([xx1.ravel(), xx2.ravel()]).T)\n",
    "    Z = Z.reshape(xx1.shape)\n",
    "    \n",
    "    plt.contourf(xx1, xx2, Z, alpha = 0.4, cmap = cmap)\n",
    "    plt.xlim(xx1.min(), xx1.max())\n",
    "    plt.ylim(xx2.min(), xx2.max())\n",
    "    \n",
    "    for idx, cl in enumerate(np.unique(y)):\n",
    "        plt.scatter(x = X[y == cl, 0], y = X[y == cl, 1],\n",
    "                   alpha = 0.8, c = cmap(idx),\n",
    "                   marker = markers[idx], label = cl)"
   ]
  },
  {
   "cell_type": "code",
   "execution_count": 11,
   "metadata": {
    "collapsed": false
   },
   "outputs": [
    {
     "data": {
      "image/png": "[encoded data removed]",
      "text/plain": [
       "<matplotlib.figure.Figure at 0x10e0d3990>"
      ]
     },
     "metadata": {},
     "output_type": "display_data"
    }
   ],
   "source": [
    "plot_decision_regions(X, y.reshape((y.shape[0])), svm1)"
   ]
  }
 ],
 "metadata": {
  "kernelspec": {
   "display_name": "Python 2",
   "language": "python",
   "name": "python2"
  },
  "language_info": {
   "codemirror_mode": {
    "name": "ipython",
    "version": 2
   },
   "file_extension": ".py",
   "mimetype": "text/x-python",
   "name": "python",
   "nbconvert_exporter": "python",
   "pygments_lexer": "ipython2",
   "version": "2.7.13"
  }
 },
 "nbformat": 4,
 "nbformat_minor": 0
}
